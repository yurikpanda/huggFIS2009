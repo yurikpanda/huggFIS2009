{
 "cells": [
  {
   "cell_type": "code",
   "execution_count": 1,
   "metadata": {},
   "outputs": [
    {
     "data": {
      "text/plain": [
       "-1.7418198158396654"
      ]
     },
     "execution_count": 1,
     "metadata": {},
     "output_type": "execute_result"
    }
   ],
   "source": [
    "import math\n",
    "\n",
    "def V(l,m,n):\n",
    "    if l==0 and m==0 and n==0:\n",
    "        return 0\n",
    "    else:\n",
    "        if (l+m+n)%2==0:\n",
    "            return (1/math.sqrt(l**2+m**2+n**2))\n",
    "        else:\n",
    "            return (-1)/math.sqrt(l**2+m**2+n**2)\n",
    "        \n",
    "def Mande(L):\n",
    "    M=0\n",
    "    for i in range (-L,L+1):\n",
    "        for j in range (-L,L+1):\n",
    "            for k in range (-L,L+1):\n",
    "                M += V(i,j,k)\n",
    "    return M\n",
    "\n",
    "Mande(100)\n",
    "    \n",
    "    "
   ]
  },
  {
   "cell_type": "code",
   "execution_count": 6,
   "metadata": {},
   "outputs": [
    {
     "name": "stdout",
     "output_type": "stream",
     "text": [
      "2 2.0 2.0\n"
     ]
    }
   ],
   "source": [
    "print( 4//2, 4.1//2, 4/2)"
   ]
  },
  {
   "cell_type": "code",
   "execution_count": 58,
   "metadata": {},
   "outputs": [
    {
     "data": {
      "text/plain": [
       "497.5620206224374"
      ]
     },
     "execution_count": 58,
     "metadata": {},
     "output_type": "execute_result"
    }
   ],
   "source": [
    "[a1,a2,a3,a4] = [15.8,18.3,0.714,23.2]\n",
    "\n",
    "def Binding(A,Z):\n",
    "    if A%2==1:\n",
    "        a5=0\n",
    "    if A%2==0 and Z%2==0:\n",
    "        a5=12\n",
    "    if A%2==0 and Z%2==1:\n",
    "        a5=-12\n",
    "        \n",
    "    return a1*A-a2*(A**(2/3))-a3*((Z**2)/(A**(1/3)))-a4*((A-2*Z)**2/A)+a5/math.sqrt(A)\n",
    "    \n",
    "Binding(58,28)"
   ]
  },
  {
   "cell_type": "code",
   "execution_count": 59,
   "metadata": {},
   "outputs": [
    {
     "data": {
      "text/plain": [
       "8.578655527973059"
      ]
     },
     "execution_count": 59,
     "metadata": {},
     "output_type": "execute_result"
    }
   ],
   "source": [
    "[a1,a2,a3,a4] = [15.8,18.3,0.714,23.2]\n",
    "\n",
    "def Binding(A,Z):\n",
    "    if A%2==1:\n",
    "        a5=0\n",
    "    if A%2==0 and Z%2==0:\n",
    "        a5=12\n",
    "    if A%2==0 and Z%2==1:\n",
    "        a5=-12\n",
    "        \n",
    "    return (a1*A-a2*(A**(2/3))-a3*((Z**2)/(A**(1/3)))-a4*((A-2*Z)**2/A)+a5/math.sqrt(A))/A\n",
    "    \n",
    "Binding(58,28)"
   ]
  },
  {
   "cell_type": "code",
   "execution_count": 62,
   "metadata": {},
   "outputs": [
    {
     "data": {
      "text/plain": [
       "8.568965517241379"
      ]
     },
     "execution_count": 62,
     "metadata": {},
     "output_type": "execute_result"
    }
   ],
   "source": [
    "497/58"
   ]
  },
  {
   "cell_type": "code",
   "execution_count": 70,
   "metadata": {},
   "outputs": [
    {
     "data": {
      "text/plain": [
       "(62, 8.70245768367189)"
      ]
     },
     "execution_count": 70,
     "metadata": {},
     "output_type": "execute_result"
    }
   ],
   "source": [
    "[a1,a2,a3,a4] = [15.8,18.3,0.714,23.2]\n",
    "\n",
    "def Binding2(Z):\n",
    "    B = 0\n",
    "    for A in range(Z,3*Z+1):\n",
    "        if A%2==1:\n",
    "            a5=0\n",
    "        elif A%2==0 and Z%2==0:\n",
    "            a5=12\n",
    "        elif A%2==0 and Z%2==1:\n",
    "            a5=-12\n",
    "        C = (a1*A-a2*(A**(2/3))-a3*((Z**2)/(A**(1/3)))-a4*((A-2*Z)**2/A)+a5/math.sqrt(A))/A\n",
    "        if C > B:\n",
    "            B = C\n",
    "            j = A\n",
    "        \n",
    "    return j, B \n",
    "Binding2(28)"
   ]
  },
  {
   "cell_type": "code",
   "execution_count": 8,
   "metadata": {},
   "outputs": [
    {
     "name": "stdout",
     "output_type": "stream",
     "text": [
      "1 3 0.3686909\n",
      "2 4 5.3219306\n",
      "3 4 5.3219306\n",
      "4 8 6.4663301\n",
      "5 11 6.6501234\n",
      "6 14 7.2009181\n",
      "7 15 7.3308606\n",
      "8 18 7.7192756\n",
      "9 19 7.7369777\n",
      "10 22 8.0353509\n",
      "11 22 8.0353509\n",
      "12 26 8.2411725\n",
      "13 26 8.2411725\n",
      "14 30 8.3791617\n",
      "15 33 8.3852142\n",
      "16 36 8.4892302\n",
      "17 36 8.4892302\n",
      "18 40 8.5734053\n",
      "19 40 8.5734053\n",
      "20 44 8.6271522\n",
      "21 44 8.6271522\n",
      "22 48 8.6585155\n",
      "23 48 8.6585155\n",
      "24 54 8.6873066\n",
      "25 54 8.6873066\n",
      "26 58 8.7014326\n",
      "27 58 8.7014326\n",
      "28 62 8.7024577\n",
      "29 62 8.7024577\n",
      "30 62 8.7024577\n",
      "31 62 8.7024577\n",
      "32 62 8.7024577\n",
      "33 62 8.7024577\n",
      "34 62 8.7024577\n",
      "35 62 8.7024577\n",
      "36 62 8.7024577\n",
      "37 62 8.7024577\n",
      "38 62 8.7024577\n",
      "39 62 8.7024577\n",
      "40 62 8.7024577\n",
      "41 62 8.7024577\n",
      "42 62 8.7024577\n",
      "43 62 8.7024577\n",
      "44 62 8.7024577\n",
      "45 62 8.7024577\n",
      "46 62 8.7024577\n",
      "47 62 8.7024577\n",
      "48 62 8.7024577\n",
      "49 62 8.7024577\n",
      "50 62 8.7024577\n",
      "51 62 8.7024577\n",
      "52 62 8.7024577\n",
      "53 62 8.7024577\n",
      "54 62 8.7024577\n",
      "55 62 8.7024577\n",
      "56 62 8.7024577\n",
      "57 62 8.7024577\n",
      "58 62 8.7024577\n",
      "59 62 8.7024577\n",
      "60 62 8.7024577\n",
      "61 62 8.7024577\n",
      "62 62 8.7024577\n",
      "63 62 8.7024577\n",
      "64 62 8.7024577\n",
      "65 62 8.7024577\n",
      "66 62 8.7024577\n",
      "67 62 8.7024577\n",
      "68 62 8.7024577\n",
      "69 62 8.7024577\n",
      "70 62 8.7024577\n",
      "71 62 8.7024577\n",
      "72 62 8.7024577\n",
      "73 62 8.7024577\n",
      "74 62 8.7024577\n",
      "75 62 8.7024577\n",
      "76 62 8.7024577\n",
      "77 62 8.7024577\n",
      "78 62 8.7024577\n",
      "79 62 8.7024577\n",
      "80 62 8.7024577\n",
      "81 62 8.7024577\n",
      "82 62 8.7024577\n",
      "83 62 8.7024577\n",
      "84 62 8.7024577\n",
      "85 62 8.7024577\n",
      "86 62 8.7024577\n",
      "87 62 8.7024577\n",
      "88 62 8.7024577\n",
      "89 62 8.7024577\n",
      "90 62 8.7024577\n",
      "91 62 8.7024577\n",
      "92 62 8.7024577\n",
      "93 62 8.7024577\n",
      "94 62 8.7024577\n",
      "95 62 8.7024577\n",
      "96 62 8.7024577\n",
      "97 62 8.7024577\n",
      "98 62 8.7024577\n",
      "99 62 8.7024577\n",
      "100 62 8.7024577\n"
     ]
    },
    {
     "data": {
      "text/plain": [
       "'Done'"
      ]
     },
     "execution_count": 8,
     "metadata": {},
     "output_type": "execute_result"
    }
   ],
   "source": [
    "import math\n",
    "[a1,a2,a3,a4] = [15.8,18.3,0.714,23.2]\n",
    "\n",
    "def Binding3():\n",
    "    B = 0\n",
    "    for Z in range(1,101):\n",
    "        for A in range(Z,3*Z+1):\n",
    "            if A%2==1:\n",
    "                a5=0\n",
    "            elif A%2==0 and Z%2==0:\n",
    "                a5=12\n",
    "            elif A%2==0 and Z%2==1:\n",
    "                a5=-12\n",
    "            C = (a1*A-a2*(A**(2/3))-a3*((Z**2)/(A**(1/3)))-a4*((A-2*Z)**2/A)+a5/math.sqrt(A))/A\n",
    "            if C > B:\n",
    "                B = C\n",
    "                j = A\n",
    "\n",
    "        print(Z,j, round(B,7))\n",
    "    return \"Done\"\n",
    "Binding3()"
   ]
  },
  {
   "cell_type": "code",
   "execution_count": 1,
   "metadata": {},
   "outputs": [
    {
     "data": {
      "text/plain": [
       "6.8"
      ]
     },
     "execution_count": 1,
     "metadata": {},
     "output_type": "execute_result"
    }
   ],
   "source": [
    "round(6.79845,2)"
   ]
  },
  {
   "cell_type": "code",
   "execution_count": null,
   "metadata": {},
   "outputs": [],
   "source": []
  }
 ],
 "metadata": {
  "kernelspec": {
   "display_name": "Python 3",
   "language": "python",
   "name": "python3"
  },
  "language_info": {
   "codemirror_mode": {
    "name": "ipython",
    "version": 3
   },
   "file_extension": ".py",
   "mimetype": "text/x-python",
   "name": "python",
   "nbconvert_exporter": "python",
   "pygments_lexer": "ipython3",
   "version": "3.7.1"
  }
 },
 "nbformat": 4,
 "nbformat_minor": 2
}
