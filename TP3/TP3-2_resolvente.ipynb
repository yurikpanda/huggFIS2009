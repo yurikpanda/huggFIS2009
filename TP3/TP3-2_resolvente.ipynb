{
 "cells": [
  {
   "cell_type": "code",
   "execution_count": 7,
   "metadata": {},
   "outputs": [
    {
     "data": {
      "text/plain": [
       "(-9.999894245993346e-07, -999999.999999)"
      ]
     },
     "execution_count": 7,
     "metadata": {},
     "output_type": "execute_result"
    }
   ],
   "source": [
    "import numpy as np\n",
    "\n",
    "def resolve(a,b,c):\n",
    "    e = np.sqrt((b**2)-4*a*c)\n",
    "    return ( ( ( (-1*b) + e ) / (2*a) ) , ( ( ( (-1*b) - e ) / (2*a) ) ))\n",
    "            \n",
    "resolve(0.001,1000,0.001)"
   ]
  },
  {
   "cell_type": "code",
   "execution_count": 12,
   "metadata": {},
   "outputs": [
    {
     "data": {
      "text/plain": [
       "(-1.000000000001e-06, -1000010.5755125057)"
      ]
     },
     "execution_count": 12,
     "metadata": {},
     "output_type": "execute_result"
    }
   ],
   "source": [
    "import numpy as np\n",
    "\n",
    "def resolve(a,b,c):\n",
    "    e = np.sqrt((b**2)-4*a*c)\n",
    "    return ( (2*c) / ( (-1*b) - e ) , (2*c) / ( (-1*b) + e ) )\n",
    "            \n",
    "resolve(0.001,1000,0.001)"
   ]
  },
  {
   "cell_type": "code",
   "execution_count": 16,
   "metadata": {},
   "outputs": [
    {
     "name": "stdout",
     "output_type": "stream",
     "text": [
      "[[0 0]\n",
      " [0 0]\n",
      " [0 0]]\n"
     ]
    }
   ],
   "source": [
    "x = np.zeros([3,2],int)\n",
    "print(x)"
   ]
  },
  {
   "cell_type": "code",
   "execution_count": 11,
   "metadata": {},
   "outputs": [
    {
     "name": "stdout",
     "output_type": "stream",
     "text": [
      "[   8   16   32   64  128  256  512 1024 2048]\n"
     ]
    }
   ],
   "source": [
    "nvals = np.array(list(map(lambda x: 2**x,range(3,12,1))))\n",
    "print(nvals)"
   ]
  }
 ],
 "metadata": {
  "kernelspec": {
   "display_name": "Python 3",
   "language": "python",
   "name": "python3"
  },
  "language_info": {
   "codemirror_mode": {
    "name": "ipython",
    "version": 3
   },
   "file_extension": ".py",
   "mimetype": "text/x-python",
   "name": "python",
   "nbconvert_exporter": "python",
   "pygments_lexer": "ipython3",
   "version": "3.7.1"
  }
 },
 "nbformat": 4,
 "nbformat_minor": 2
}
