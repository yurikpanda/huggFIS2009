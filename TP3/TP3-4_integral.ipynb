{
 "cells": [
  {
   "cell_type": "code",
   "execution_count": 3,
   "metadata": {},
   "outputs": [],
   "source": [
    "import numpy as np\n",
    "from pylab import plot,show"
   ]
  },
  {
   "cell_type": "code",
   "execution_count": 73,
   "metadata": {},
   "outputs": [],
   "source": [
    "def f(u):\n",
    "    return u**2+5*u+3\n",
    "\n",
    "def riemann(a,b,n):\n",
    "    h = (b-a)/n\n",
    "    x = np.linspace(a,b-h,n)\n",
    "    areas = f(x) * h\n",
    "    return (np.sum(areas))\n",
    "\n",
    "def trapezoidal(a,b,n):\n",
    "    h = (b-a)/n\n",
    "    x = np.linspace(a,b-h,n)\n",
    "    fx = f(x)\n",
    "    s = h*( (f(a)/2) + (f(b)/2) + np.sum(fx[1:n-1]))\n",
    "    return s\n",
    "\n",
    "def simpson(a,b,n):\n",
    "    h = (b-a)/n\n",
    "    x = np.linspace(a,b-h,n)\n",
    "    fx = f(x)\n",
    "    s = (1/3)*h*(f(a)+f(b)+4*np.sum(fx[1::2])+2*np.sum(fx[2:n-1:2]))\n",
    "    return s"
   ]
  },
  {
   "cell_type": "code",
   "execution_count": 77,
   "metadata": {},
   "outputs": [
    {
     "data": {
      "image/png": "[encoded data removed]",
      "text/plain": [
       "<Figure size 432x288 with 1 Axes>"
      ]
     },
     "metadata": {
      "needs_background": "light"
     },
     "output_type": "display_data"
    }
   ],
   "source": [
    "def comparação(a,b,n):\n",
    "    riemano = []\n",
    "    simpsoa = []\n",
    "    trapezio = []\n",
    "    for i in range(2,n+1,2):\n",
    "        riemano.append(riemann(a,b,i))\n",
    "        simpsoa.append(simpson(a,b,i))\n",
    "        trapezio.append(trapezoidal(a,b,i))\n",
    "    plot(riemano)\n",
    "    plot(trapezio)\n",
    "    plot(simpsoa)\n",
    "    show()\n",
    "comparação(0,50,100)"
   ]
  },
  {
   "cell_type": "code",
   "execution_count": null,
   "metadata": {},
   "outputs": [],
   "source": []
  }
 ],
 "metadata": {
  "kernelspec": {
   "display_name": "Python 3",
   "language": "python",
   "name": "python3"
  },
  "language_info": {
   "codemirror_mode": {
    "name": "ipython",
    "version": 3
   },
   "file_extension": ".py",
   "mimetype": "text/x-python",
   "name": "python",
   "nbconvert_exporter": "python",
   "pygments_lexer": "ipython3",
   "version": "3.7.1"
  }
 },
 "nbformat": 4,
 "nbformat_minor": 2
}
