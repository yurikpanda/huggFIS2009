{
 "cells": [
  {
   "cell_type": "code",
   "execution_count": 1,
   "metadata": {},
   "outputs": [
    {
     "data": {
      "text/plain": [
       "-1.7418198158396654"
      ]
     },
     "execution_count": 1,
     "metadata": {},
     "output_type": "execute_result"
    }
   ],
   "source": [
    "import math\n",
    "\n",
    "def V(l,m,n):\n",
    "    if l==0 and m==0 and n==0:\n",
    "        return 0\n",
    "    else:\n",
    "        if (l+m+n)%2==0:\n",
    "            return (1/math.sqrt(l**2+m**2+n**2))\n",
    "        else:\n",
    "            return (-1)/math.sqrt(l**2+m**2+n**2)\n",
    "        \n",
    "def Mande(L):\n",
    "    M=0\n",
    "    for i in range (-L,L+1):\n",
    "        for j in range (-L,L+1):\n",
    "            for k in range (-L,L+1):\n",
    "                M += V(i,j,k)\n",
    "    return M\n",
    "\n",
    "Mande(100)"
   ]
  },
  {
   "cell_type": "code",
   "execution_count": null,
   "metadata": {},
   "outputs": [],
   "source": []
  }
 ],
 "metadata": {
  "kernelspec": {
   "display_name": "Python 3",
   "language": "python",
   "name": "python3"
  },
  "language_info": {
   "codemirror_mode": {
    "name": "ipython",
    "version": 3
   },
   "file_extension": ".py",
   "mimetype": "text/x-python",
   "name": "python",
   "nbconvert_exporter": "python",
   "pygments_lexer": "ipython3",
   "version": "3.7.1"
  }
 },
 "nbformat": 4,
 "nbformat_minor": 2
}
