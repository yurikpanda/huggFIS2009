{
 "cells": [
  {
   "cell_type": "code",
   "execution_count": 13,
   "metadata": {},
   "outputs": [
    {
     "name": "stdout",
     "output_type": "stream",
     "text": [
      "[1]\n",
      "[1, 1]\n",
      "[1, 2, 1]\n",
      "[1, 3, 3, 1]\n",
      "[1, 4, 6, 4, 1]\n"
     ]
    }
   ],
   "source": [
    "from math import factorial as f\n",
    "linha=[]\n",
    "def binomial(n,k):\n",
    "    return (int(f(n)/(f(k)*f(n-k))))\n",
    "for n1 in range(5):\n",
    "    for k1 in range(n1+1):\n",
    "        linha.append(binomial(n1,k1))\n",
    "    print(linha)\n",
    "    linha=[]\n",
    "    \n"
   ]
  },
  {
   "cell_type": "code",
   "execution_count": 18,
   "metadata": {},
   "outputs": [
    {
     "data": {
      "text/plain": [
       "0.010843866711637987"
      ]
     },
     "execution_count": 18,
     "metadata": {},
     "output_type": "execute_result"
    }
   ],
   "source": [
    "from math import factorial as f\n",
    "def binomial(n,k):\n",
    "    return (int(f(n)/(f(k)*f(n-k))))\n",
    "def probabilidade(v,c):\n",
    "    return (binomial(v,c)/(2**v))\n",
    "\n",
    "def probabilidade2(v1,c1):\n",
    "    return (binomial(v,c)/(2**v))\n"
   ]
  },
  {
   "cell_type": "code",
   "execution_count": null,
   "metadata": {},
   "outputs": [],
   "source": []
  }
 ],
 "metadata": {
  "kernelspec": {
   "display_name": "Python 3",
   "language": "python",
   "name": "python3"
  },
  "language_info": {
   "codemirror_mode": {
    "name": "ipython",
    "version": 3
   },
   "file_extension": ".py",
   "mimetype": "text/x-python",
   "name": "python",
   "nbconvert_exporter": "python",
   "pygments_lexer": "ipython3",
   "version": "3.7.1"
  }
 },
 "nbformat": 4,
 "nbformat_minor": 2
}
