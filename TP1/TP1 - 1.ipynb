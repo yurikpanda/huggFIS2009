{
 "cells": [
  {
   "cell_type": "code",
   "execution_count": 13,
   "metadata": {},
   "outputs": [
    {
     "name": "stdout",
     "output_type": "stream",
     "text": [
      "(152027197208.66058, 29305.399177261148, 0.9995392617907275, 2.2032611846080005e-13)\n",
      "(5282214660876.441, 906.6806969191493, 76.02962556864868, 1.1196316800584863e-11)\n"
     ]
    }
   ],
   "source": [
    "from math import sqrt,pi\n",
    "def afélio(l1,v1):\n",
    "    G = 6.6738*10**-11\n",
    "    M = 1.9891*10**30\n",
    "    v2 = ((G*M)/(v1*l1))-sqrt(((2*G*M)/(v1*l1))**2+4*(v1**2 -((2*G*M)/l1)))/2\n",
    "    l2 = (l1*v1)/v2\n",
    "    a = 0.5 * (l1 +l2)\n",
    "    b = sqrt(l1*l2)\n",
    "    T = (2*pi*a*b)/(l1*v1)\n",
    "    e  = (l2 - l1)/(l1*l2)\n",
    "    return (l2,v2,(T/(365.25*24*60*60)),e)\n",
    "\n",
    "    \n",
    "print(afélio(1.4710*10**11,3.0287*10**4))\n",
    "print(afélio(8.783*10**10,5.4529*10**4))"
   ]
  },
  {
   "cell_type": "code",
   "execution_count": null,
   "metadata": {},
   "outputs": [],
   "source": []
  }
 ],
 "metadata": {
  "kernelspec": {
   "display_name": "Python 3",
   "language": "python",
   "name": "python3"
  },
  "language_info": {
   "codemirror_mode": {
    "name": "ipython",
    "version": 3
   },
   "file_extension": ".py",
   "mimetype": "text/x-python",
   "name": "python",
   "nbconvert_exporter": "python",
   "pygments_lexer": "ipython3",
   "version": "3.7.1"
  }
 },
 "nbformat": 4,
 "nbformat_minor": 2
}
