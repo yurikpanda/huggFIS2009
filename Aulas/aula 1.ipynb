{
 "cells": [
  {
   "cell_type": "code",
   "execution_count": 1,
   "metadata": {},
   "outputs": [
    {
     "name": "stdout",
     "output_type": "stream",
     "text": [
      "130\n"
     ]
    }
   ],
   "source": [
    "[a0,an,r,n,soma] = [4,4,2,10,0]\n",
    "\n",
    "for i in range(n):\n",
    "    soma += an\n",
    "    an += r\n",
    "print(soma)"
   ]
  },
  {
   "cell_type": "code",
   "execution_count": 6,
   "metadata": {},
   "outputs": [
    {
     "name": "stdout",
     "output_type": "stream",
     "text": [
      "1020 1020.0\n"
     ]
    }
   ],
   "source": [
    "[a0,an,r,n,soma] = [4,4,2,8,0]\n",
    "\n",
    "for i in range(n):\n",
    "    soma += an\n",
    "    an *= r\n",
    "print(soma, (a0*(1-(r**n)))/(1-r))"
   ]
  },
  {
   "cell_type": "code",
   "execution_count": 46,
   "metadata": {},
   "outputs": [
    {
     "name": "stdout",
     "output_type": "stream",
     "text": [
      "[2.7182818284590455] 2.718281828459045\n",
      "[2.7182818284590455, 7.389056098930649] 7.38905609893065\n",
      "[2.7182818284590455, 7.389056098930649, 20.08553692318766] 20.085536923187668\n",
      "[2.7182818284590455, 7.389056098930649, 20.08553692318766, 54.598150033144265] 54.598150033144236\n",
      "[2.7182818284590455, 7.389056098930649, 20.08553692318766, 54.598150033144265, 148.4131591025766] 148.4131591025766\n",
      "[1, 2, 3, 4, 5] [2.7182818284590455, 7.389056098930649, 20.08553692318766, 54.598150033144265, 148.4131591025766]\n"
     ]
    },
    {
     "data": {
      "image/png": "[encoded data removed]",
      "text/plain": [
       "<Figure size 432x288 with 1 Axes>"
      ]
     },
     "metadata": {
      "needs_background": "light"
     },
     "output_type": "display_data"
    }
   ],
   "source": [
    "import math\n",
    "import matplotlib.pyplot as plt\n",
    "%matplotlib inline\n",
    "\n",
    "x = [1,2,3,4,5]\n",
    "soma2 = []\n",
    "for x0 in x:\n",
    "    n = 100\n",
    "    an = 1\n",
    "    soma = 1\n",
    "    for j in range(1,n):\n",
    "        an *= x0/j\n",
    "        soma += an\n",
    "    soma2.append(soma)\n",
    "    print (soma2, math.exp(x0))\n",
    "plt.plot(x,soma2)\n",
    "plt.yscale('log')\n",
    "print(x,soma2)\n",
    "        "
   ]
  },
  {
   "cell_type": "code",
   "execution_count": 42,
   "metadata": {},
   "outputs": [
    {
     "name": "stdout",
     "output_type": "stream",
     "text": [
      "1\n",
      "3\n",
      "5\n",
      "7\n",
      "9\n",
      "11\n",
      "13\n",
      "15\n",
      "17\n",
      "19\n",
      "21\n",
      "23\n",
      "25\n",
      "27\n",
      "29\n",
      "-0.19188652640290513 0.0015926529164868282\n"
     ]
    }
   ],
   "source": [
    "import math\n",
    "[x,n,an,soma] = [3.14,30,1,1]\n",
    "for i in range(1,n,2):\n",
    "    print(i)\n",
    "    an *= (-x**2)/i\n",
    "    soma += an\n",
    "print (soma, math.sin(x))"
   ]
  },
  {
   "cell_type": "code",
   "execution_count": 17,
   "metadata": {},
   "outputs": [
    {
     "name": "stdout",
     "output_type": "stream",
     "text": [
      "1\n",
      "4\n",
      "7\n"
     ]
    }
   ],
   "source": [
    "for i in range(1,9,3):\n",
    "    print(i)"
   ]
  },
  {
   "cell_type": "code",
   "execution_count": null,
   "metadata": {},
   "outputs": [],
   "source": []
  }
 ],
 "metadata": {
  "kernelspec": {
   "display_name": "Python 3",
   "language": "python",
   "name": "python3"
  },
  "language_info": {
   "codemirror_mode": {
    "name": "ipython",
    "version": 3
   },
   "file_extension": ".py",
   "mimetype": "text/x-python",
   "name": "python",
   "nbconvert_exporter": "python",
   "pygments_lexer": "ipython3",
   "version": "3.7.1"
  }
 },
 "nbformat": 4,
 "nbformat_minor": 2
}
