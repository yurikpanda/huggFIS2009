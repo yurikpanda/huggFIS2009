{
 "cells": [
  {
   "cell_type": "code",
   "execution_count": 1,
   "metadata": {},
   "outputs": [],
   "source": [
    "import numpy as np\n",
    "import random as rd"
   ]
  },
  {
   "cell_type": "code",
   "execution_count": 2,
   "metadata": {},
   "outputs": [],
   "source": [
    "# David vs Leonardo = 0\n",
    "# David vs Miguel = 1\n",
    "# Miguel vs Leonardo = 2"
   ]
  },
  {
   "cell_type": "code",
   "execution_count": 77,
   "metadata": {},
   "outputs": [
    {
     "name": "stdout",
     "output_type": "stream",
     "text": [
      "['DM', 'ML', 'DM', 'ML', 'DM', 'ML', 'DL', 'DM', 'DL', 'DM', 'ML', 'DM', 'DL', 'DM', 'DL', 'DM', 'ML', 'DM', 'ML', 'DM', 'ML']\n",
      "['DM', 'ML', 'DM', 'DL', 'ML', 'DM', 'DL', 'ML', 'DM', 'ML', 'DM', 'ML', 'DM', 'DL', 'DM', 'ML', 'DM', 'DL', 'DM', 'ML', 'DM']\n",
      "['DL', 'DM', 'ML', 'DM', 'DL', 'DM', 'ML', 'DM', 'DL', 'ML', 'DM', 'ML', 'DM', 'DL', 'DM', 'ML', 'DM', 'ML', 'DM', 'ML', 'DM']\n",
      "['DM', 'ML', 'DM', 'DL', 'ML', 'DM', 'ML', 'DM', 'ML', 'DM', 'DL', 'DM', 'ML', 'DM', 'DL', 'DM', 'ML', 'DL', 'DM', 'ML', 'DM']\n",
      "['DM', 'ML', 'DM', 'ML', 'DM', 'DL', 'DM', 'DL', 'ML', 'DM', 'ML', 'DL', 'DM', 'ML', 'DM', 'DL', 'DM', 'ML', 'DM', 'ML', 'DM']\n",
      "['DM', 'ML', 'DM', 'ML', 'DM', 'ML', 'DM', 'ML', 'DM', 'ML', 'DM', 'DL', 'DM', 'ML', 'DL', 'DM', 'DL', 'ML', 'DM', 'DL', 'DM']\n",
      "['ML', 'DM', 'ML', 'DM', 'DL', 'ML', 'DM', 'ML', 'DM', 'DL', 'DM', 'ML', 'DM', 'DL', 'DM', 'ML', 'DM', 'DL', 'DM', 'ML', 'DM']\n",
      "['DM', 'DL', 'DM', 'ML', 'DM', 'ML', 'DL', 'DM', 'DL', 'ML', 'DM', 'ML', 'DM', 'DL', 'DM', 'ML', 'DM', 'ML', 'DM', 'ML', 'DM']\n",
      "['ML', 'DM', 'DL', 'DM', 'ML', 'DM', 'ML', 'DM', 'DL', 'DM', 'ML', 'DM', 'DL', 'ML', 'DM', 'ML', 'DM', 'DL', 'DM', 'ML', 'DM']\n"
     ]
    },
    {
     "ename": "RecursionError",
     "evalue": "maximum recursion depth exceeded while calling a Python object",
     "output_type": "error",
     "traceback": [
      "\u001b[1;31m---------------------------------------------------------------------------\u001b[0m",
      "\u001b[1;31mRecursionError\u001b[0m                            Traceback (most recent call last)",
      "\u001b[1;32m<ipython-input-77-07f6f04a0e71>\u001b[0m in \u001b[0;36m<module>\u001b[1;34m\u001b[0m\n\u001b[0;32m     30\u001b[0m     \u001b[1;32mreturn\u001b[0m \u001b[0msolucoes\u001b[0m\u001b[1;33m(\u001b[0m\u001b[0mN\u001b[0m\u001b[1;33m-\u001b[0m\u001b[1;36m1\u001b[0m\u001b[1;33m,\u001b[0m\u001b[0mstorage\u001b[0m\u001b[1;33m)\u001b[0m\u001b[1;33m\u001b[0m\u001b[1;33m\u001b[0m\u001b[0m\n\u001b[0;32m     31\u001b[0m \u001b[1;33m\u001b[0m\u001b[0m\n\u001b[1;32m---> 32\u001b[1;33m \u001b[0msolucoes\u001b[0m\u001b[1;33m(\u001b[0m\u001b[1;36m10000\u001b[0m\u001b[1;33m,\u001b[0m\u001b[1;33m[\u001b[0m\u001b[1;33m]\u001b[0m\u001b[1;33m)\u001b[0m\u001b[1;33m\u001b[0m\u001b[1;33m\u001b[0m\u001b[0m\n\u001b[0m",
      "\u001b[1;32m<ipython-input-77-07f6f04a0e71>\u001b[0m in \u001b[0;36msolucoes\u001b[1;34m(N, storage)\u001b[0m\n\u001b[0;32m     28\u001b[0m             \u001b[0mprint\u001b[0m\u001b[1;33m(\u001b[0m\u001b[0mnomes\u001b[0m\u001b[1;33m)\u001b[0m\u001b[1;33m\u001b[0m\u001b[1;33m\u001b[0m\u001b[0m\n\u001b[0;32m     29\u001b[0m             \u001b[0mstorage\u001b[0m\u001b[1;33m.\u001b[0m\u001b[0mappend\u001b[0m\u001b[1;33m(\u001b[0m\u001b[0mnomes\u001b[0m\u001b[1;33m)\u001b[0m\u001b[1;33m\u001b[0m\u001b[1;33m\u001b[0m\u001b[0m\n\u001b[1;32m---> 30\u001b[1;33m     \u001b[1;32mreturn\u001b[0m \u001b[0msolucoes\u001b[0m\u001b[1;33m(\u001b[0m\u001b[0mN\u001b[0m\u001b[1;33m-\u001b[0m\u001b[1;36m1\u001b[0m\u001b[1;33m,\u001b[0m\u001b[0mstorage\u001b[0m\u001b[1;33m)\u001b[0m\u001b[1;33m\u001b[0m\u001b[1;33m\u001b[0m\u001b[0m\n\u001b[0m\u001b[0;32m     31\u001b[0m \u001b[1;33m\u001b[0m\u001b[0m\n\u001b[0;32m     32\u001b[0m \u001b[0msolucoes\u001b[0m\u001b[1;33m(\u001b[0m\u001b[1;36m10000\u001b[0m\u001b[1;33m,\u001b[0m\u001b[1;33m[\u001b[0m\u001b[1;33m]\u001b[0m\u001b[1;33m)\u001b[0m\u001b[1;33m\u001b[0m\u001b[1;33m\u001b[0m\u001b[0m\n",
      "... last 1 frames repeated, from the frame below ...\n",
      "\u001b[1;32m<ipython-input-77-07f6f04a0e71>\u001b[0m in \u001b[0;36msolucoes\u001b[1;34m(N, storage)\u001b[0m\n\u001b[0;32m     28\u001b[0m             \u001b[0mprint\u001b[0m\u001b[1;33m(\u001b[0m\u001b[0mnomes\u001b[0m\u001b[1;33m)\u001b[0m\u001b[1;33m\u001b[0m\u001b[1;33m\u001b[0m\u001b[0m\n\u001b[0;32m     29\u001b[0m             \u001b[0mstorage\u001b[0m\u001b[1;33m.\u001b[0m\u001b[0mappend\u001b[0m\u001b[1;33m(\u001b[0m\u001b[0mnomes\u001b[0m\u001b[1;33m)\u001b[0m\u001b[1;33m\u001b[0m\u001b[1;33m\u001b[0m\u001b[0m\n\u001b[1;32m---> 30\u001b[1;33m     \u001b[1;32mreturn\u001b[0m \u001b[0msolucoes\u001b[0m\u001b[1;33m(\u001b[0m\u001b[0mN\u001b[0m\u001b[1;33m-\u001b[0m\u001b[1;36m1\u001b[0m\u001b[1;33m,\u001b[0m\u001b[0mstorage\u001b[0m\u001b[1;33m)\u001b[0m\u001b[1;33m\u001b[0m\u001b[1;33m\u001b[0m\u001b[0m\n\u001b[0m\u001b[0;32m     31\u001b[0m \u001b[1;33m\u001b[0m\u001b[0m\n\u001b[0;32m     32\u001b[0m \u001b[0msolucoes\u001b[0m\u001b[1;33m(\u001b[0m\u001b[1;36m10000\u001b[0m\u001b[1;33m,\u001b[0m\u001b[1;33m[\u001b[0m\u001b[1;33m]\u001b[0m\u001b[1;33m)\u001b[0m\u001b[1;33m\u001b[0m\u001b[1;33m\u001b[0m\u001b[0m\n",
      "\u001b[1;31mRecursionError\u001b[0m: maximum recursion depth exceeded while calling a Python object"
     ]
    }
   ],
   "source": [
    "def solucoes(N,storage):\n",
    "    if N == 0:\n",
    "        return 'Acabei'\n",
    "    lista = list(np.zeros(21))\n",
    "    lista[0] = rd.randint(0,2)\n",
    "    for i in range(1,21):\n",
    "        a = lista[i-1]\n",
    "        if a == 0:\n",
    "            lista[i] = rd.randint(1,2)\n",
    "            \n",
    "        elif a == 1:\n",
    "            lista[i] = rd.randint(0,1)*2\n",
    "            \n",
    "        else:\n",
    "            lista[i] = rd.randint(0,1)\n",
    "        \n",
    "    if (lista.count(0) == 4) and (lista.count(1)==10) and (lista.count(2)==7):\n",
    "        nomes = list(np.zeros(21))\n",
    "        for i in range(21):\n",
    "            b = lista[i]\n",
    "            if b == 0:\n",
    "                nomes[i] = 'DL'\n",
    "            elif b == 1:\n",
    "                nomes[i] = 'DM'\n",
    "            else:\n",
    "                nomes[i] = 'ML'\n",
    "        if nomes not in storage:\n",
    "            print(nomes)\n",
    "            storage.append(nomes)\n",
    "    return solucoes(N-1,storage)\n",
    "\n",
    "solucoes(10000,[])"
   ]
  },
  {
   "cell_type": "code",
   "execution_count": null,
   "metadata": {},
   "outputs": [],
   "source": []
  }
 ],
 "metadata": {
  "kernelspec": {
   "display_name": "Python 3",
   "language": "python",
   "name": "python3"
  },
  "language_info": {
   "codemirror_mode": {
    "name": "ipython",
    "version": 3
   },
   "file_extension": ".py",
   "mimetype": "text/x-python",
   "name": "python",
   "nbconvert_exporter": "python",
   "pygments_lexer": "ipython3",
   "version": "3.7.1"
  }
 },
 "nbformat": 4,
 "nbformat_minor": 2
}
