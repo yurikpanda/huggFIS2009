{
 "cells": [
  {
   "cell_type": "code",
   "execution_count": 2,
   "metadata": {},
   "outputs": [],
   "source": [
    "import numpy as np\n",
    "\n",
    "def f(u):\n",
    "    return (np.sin(np.sqrt(100*u)))**2"
   ]
  },
  {
   "cell_type": "code",
   "execution_count": 3,
   "metadata": {},
   "outputs": [
    {
     "name": "stdout",
     "output_type": "stream",
     "text": [
      "[0.40818651707222187, 0.4381832538668542, 0.45100552289757917, 0.454598922832271, 0.4555224364424941]\n"
     ]
    }
   ],
   "source": [
    "def adaptative(a,b,epsilon,N1):\n",
    "    h = (b-a)/N1\n",
    "    x = np.arange(a,b+h,h)\n",
    "    A = (f(x)[0]/2) + (f(x)[-1]/2) + np.sum(f(x)[1:-1])\n",
    "    I1 = h*A\n",
    "    e = 10\n",
    "    while abs(e) > epsilon:\n",
    "        h /= 2\n",
    "        x = np.arange(a+h,b,2*h)\n",
    "        A += np.sum(f(x))\n",
    "        I2 = h*A\n",
    "        e = (I2 - I1)/3\n",
    "        I1 = I2\n",
    "    return I1\n",
    "#print(adaptative(0,1,1*10**-6,1))\n",
    "\n",
    "def adapt(a,b,i,N1):\n",
    "    h = (b-a)/N1\n",
    "    x = np.arange(a,b+h,h)\n",
    "    A = (f(x)[0]/2) + (f(x)[-1]/2) + np.sum(f(x)[1:-1])\n",
    "    I1 = h*A\n",
    "    lista = [I1]\n",
    "    for j in range(i):\n",
    "        h /= 2\n",
    "        x = np.arange(a+h,b,2*h)\n",
    "        A += np.sum(f(x))\n",
    "        I2 = h*A\n",
    "        I1 = I2\n",
    "        lista.append(I1)\n",
    "    return lista\n",
    "print(adapt(0,1,4,10))"
   ]
  },
  {
   "cell_type": "code",
   "execution_count": 4,
   "metadata": {},
   "outputs": [
    {
     "data": {
      "text/plain": [
       "array([[0.45504094, 0.        , 0.        , 0.        , 0.        ],\n",
       "       [0.45563394, 0.45583161, 0.        , 0.        , 0.        ],\n",
       "       [0.45578284, 0.45583247, 0.45583253, 0.        , 0.        ],\n",
       "       [0.45582011, 0.45583253, 0.45583253, 0.45583253, 0.        ],\n",
       "       [0.        , 0.        , 0.        , 0.        , 0.        ]])"
      ]
     },
     "execution_count": 4,
     "metadata": {},
     "output_type": "execute_result"
    }
   ],
   "source": [
    "def Romberg(a,b,N1,n,e):\n",
    "    matrix = np.zeros([n,n])\n",
    "    coluna0 = adapt(a,b,n-1,N1)\n",
    "    matrix[:,0] = coluna0\n",
    "    e1 = (matrix[1,0]-matrix[0,0])/3\n",
    "    for i in range(1,n):\n",
    "        for j in range(1,i+1):\n",
    "            matrix[i,j] = matrix[i,j-1] + ((((4**j)-1)**(-1))*(matrix[i,j-1]-matrix[i-1,j-1]))\n",
    "        e1 = (((4**(j))-1)**(-1)) * (matrix[i,j-1]-matrix[i-1,j-1])\n",
    "        if e1 < e :\n",
    "            matrix[i+1:,0] = np.zeros(len(matrix[i+1:,0]))\n",
    "            break\n",
    "    return matrix\n",
    "\n",
    "Romberg(0,1,100,5,1*10**(-10))"
   ]
  }
 ],
 "metadata": {
  "kernelspec": {
   "display_name": "Python 3",
   "language": "python",
   "name": "python3"
  },
  "language_info": {
   "codemirror_mode": {
    "name": "ipython",
    "version": 3
   },
   "file_extension": ".py",
   "mimetype": "text/x-python",
   "name": "python",
   "nbconvert_exporter": "python",
   "pygments_lexer": "ipython3",
   "version": "3.7.1"
  }
 },
 "nbformat": 4,
 "nbformat_minor": 2
}
