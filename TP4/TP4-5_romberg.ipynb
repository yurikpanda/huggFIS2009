{
 "cells": [
  {
   "cell_type": "code",
   "execution_count": 1,
   "metadata": {},
   "outputs": [],
   "source": [
    "import numpy as np"
   ]
  },
  {
   "cell_type": "code",
   "execution_count": 4,
   "metadata": {},
   "outputs": [],
   "source": [
    "def f(u):\n",
    "    return (np.sin(np.sqrt(100*u)))**2\n",
    "\n",
    "def trapezoidal(a,b,n):\n",
    "    h = (b-a)/n\n",
    "    x = np.linspace(a,b-h,n)\n",
    "    fx = f(x)\n",
    "    s = h*( (f(a)/2) + (f(b)/2) + np.sum(fx[1:n-1]))\n",
    "    return s\n",
    "\n",
    "def R(a,b,i,m):\n",
    "    if m == 10:\n",
    "        return trapezoidal(a,b,2**i)\n",
    "    else:\n",
    "        return R(a,b,i,m-1) + ((4**(m-1))**(-1)) * (R(a,b,i,m-1)-R(a,b,i-1,m-1))"
   ]
  },
  {
   "cell_type": "code",
   "execution_count": 8,
   "metadata": {},
   "outputs": [
    {
     "data": {
      "text/plain": [
       "0.4557600747041881"
      ]
     },
     "execution_count": 8,
     "metadata": {},
     "output_type": "execute_result"
    }
   ],
   "source": [
    "R(0,1,12,12)"
   ]
  }
 ],
 "metadata": {
  "kernelspec": {
   "display_name": "Python 3",
   "language": "python",
   "name": "python3"
  },
  "language_info": {
   "codemirror_mode": {
    "name": "ipython",
    "version": 3
   },
   "file_extension": ".py",
   "mimetype": "text/x-python",
   "name": "python",
   "nbconvert_exporter": "python",
   "pygments_lexer": "ipython3",
   "version": "3.7.1"
  }
 },
 "nbformat": 4,
 "nbformat_minor": 2
}
