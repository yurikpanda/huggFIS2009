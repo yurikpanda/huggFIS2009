{
 "cells": [
  {
   "cell_type": "code",
   "execution_count": 10,
   "metadata": {},
   "outputs": [],
   "source": [
    "import numpy as np\n",
    "from pylab import plot,show"
   ]
  },
  {
   "cell_type": "code",
   "execution_count": 35,
   "metadata": {},
   "outputs": [],
   "source": [
    "def f(u):\n",
    "    return u**4-2*u+1\n",
    "\n",
    "def simpson(a,b,n):\n",
    "    h = (b-a)/n\n",
    "    x = np.linspace(a,b-h,n)\n",
    "    fx = f(x)\n",
    "    s = (1/3)*h*(f(a)+f(b)+4*np.sum(fx[1::2])+2*np.sum(fx[2:n-1:2]))\n",
    "    return s\n",
    "\n",
    "def trapezoidal(a,b,n):\n",
    "    h = (b-a)/n\n",
    "    x = np.linspace(a,b-h,n)\n",
    "    fx = f(x)\n",
    "    s = h*( (f(a)/2) + (f(b)/2) + np.sum(fx[1:n-1]))\n",
    "    return s\n",
    "\n",
    "def comparação(a,b,n):\n",
    "    simpsoa = list(map(lambda n0: simpson(a,b,n0),range(2,n+1,2)))\n",
    "    trapezio = list(map(lambda n0 : trapezoidal(a,b,n0),range(2,n+1)))\n",
    "    plot(range(2,n+1,2),simpsoa)\n",
    "    plot(range(2,n+1),trapezio)\n",
    "    show()"
   ]
  },
  {
   "cell_type": "code",
   "execution_count": 36,
   "metadata": {},
   "outputs": [
    {
     "name": "stdout",
     "output_type": "stream",
     "text": [
      "4.400426666666667\n",
      "0.009696969696972665\n"
     ]
    }
   ],
   "source": [
    "print(simpson(0,2,10))\n",
    "print(((simpson(0,2,10)-4.4)/4.4)*100)"
   ]
  },
  {
   "cell_type": "code",
   "execution_count": 37,
   "metadata": {},
   "outputs": [
    {
     "data": {
      "image/png": "[encoded data removed]",
      "text/plain": [
       "<Figure size 432x288 with 1 Axes>"
      ]
     },
     "metadata": {
      "needs_background": "light"
     },
     "output_type": "display_data"
    }
   ],
   "source": [
    "comparação(0,2,1000)"
   ]
  }
 ],
 "metadata": {
  "kernelspec": {
   "display_name": "Python 3",
   "language": "python",
   "name": "python3"
  },
  "language_info": {
   "codemirror_mode": {
    "name": "ipython",
    "version": 3
   },
   "file_extension": ".py",
   "mimetype": "text/x-python",
   "name": "python",
   "nbconvert_exporter": "python",
   "pygments_lexer": "ipython3",
   "version": "3.7.1"
  }
 },
 "nbformat": 4,
 "nbformat_minor": 2
}
